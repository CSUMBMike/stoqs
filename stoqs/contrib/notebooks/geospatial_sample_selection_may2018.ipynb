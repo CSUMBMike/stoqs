{
 "cells": [
  {
   "cell_type": "markdown",
   "metadata": {},
   "source": [
    "### Select and Plot Data at Time Series Location During CANON Spring 2018\n",
    "*Several platforms visited the same geographic location - retreive all the data from this location and compare*\n"
   ]
  },
  {
   "cell_type": "markdown",
   "metadata": {},
   "source": [
    "Executing this Notebook requires a personal STOQS server.  The Docker instructions below will give you a personal server and your own copy of the database.\n",
    "\n",
    "#### Docker Instructions\n",
    "With your stoqs server running in Docker as \n",
    "[detailed in the README](https://github.com/stoqs/stoqs#production-deployment-with-docker) load a copy of the stoqs_canon_may2018 database (from your `$STOQS_HOME/docker` directory) :\n",
    "\n",
    "    docker-compose exec stoqs createdb -U postgres stoqs_canon_may2018\n",
    "    curl -k https://stoqs.mbari.org/media/pg_dumps/stoqs_canon_may2018.pg_dump | \\\n",
    "        docker exec -i stoqs pg_restore -Fc -U postgres -d stoqs_canon_may2018\n",
    "        \n",
    "This may take 10 minutes or more to complete - wait for the command prompt. Then launch the Jupyter Notebook server:\n",
    "\n",
    "    docker-compose exec stoqs stoqs/manage.py shell_plus --notebook\n",
    "\n",
    "A message is displayed giving a token for you to use in a browser on your host, e.g.:\n",
    "\n",
    "    http://localhost:8888/?token=<use_the_given_one-time_token>\n",
    "\n",
    "In the browser window navigate to this file (`stoqs/contrib/notebooks/geospatial_sample_selection_may2018.ipynb`) and open it. You will then be able to execute the cells and experiment with this notebook.\n",
    "\n",
    "---"
   ]
  },
  {
   "cell_type": "markdown",
   "metadata": {},
   "source": [
    "Find all the data within 1 km of the center of the Makai ESP Samples (time series location): -122.520, 36.980"
   ]
  },
  {
   "cell_type": "code",
   "execution_count": 4,
   "metadata": {},
   "outputs": [],
   "source": [
    "db = 'stoqs_canon_may2018'\n",
    "\n",
    "from django.contrib.gis.geos import fromstr\n",
    "from django.contrib.gis.measure import D\n",
    "\n",
    "ts_loc = fromstr('POINT(-122.520 36.980)')\n",
    "near_ts_loc = Measurement.objects.using(db).filter(geom__distance_lt=(ts_loc, D(km=1.0)))"
   ]
  },
  {
   "cell_type": "code",
   "execution_count": 5,
   "metadata": {},
   "outputs": [],
   "source": [
    "acts = Activity.objects.using(db).filter(instantpoint__measurement__in=near_ts_loc)"
   ]
  },
  {
   "cell_type": "code",
   "execution_count": 6,
   "metadata": {},
   "outputs": [
    {
     "data": {
      "text/plain": [
       "<QuerySet ['makai_ESP_Archive', 'WesternFlyer_UCTD', 'WesternFlyer_PCTD', 'wg_Sparky_Glider', 'NPS_Glider_34', 'makai', 'wg_Tiny_Glider', 'daphne']>"
      ]
     },
     "execution_count": 6,
     "metadata": {},
     "output_type": "execute_result"
    }
   ],
   "source": [
    "acts.values_list('platform__name', flat=True).distinct()"
   ]
  },
  {
   "cell_type": "code",
   "execution_count": 7,
   "metadata": {},
   "outputs": [],
   "source": [
    "pctds = acts.filter(platform__name='WesternFlyer_PCTD').order_by('startdate').distinct()\n",
    "esps = acts.filter(platform__name='makai_ESP_Archive').order_by('startdate').distinct()"
   ]
  },
  {
   "cell_type": "code",
   "execution_count": 9,
   "metadata": {},
   "outputs": [
    {
     "data": {
      "text/plain": [
       "<QuerySet [<Activity: cn18sc09>, <Activity: cn18sc10>, <Activity: cn18sc12>, <Activity: cn18sc14>, <Activity: cn18sc18>, <Activity: cn18sc24>, <Activity: cn18sc27>, <Activity: cn18sc35>, <Activity: cn18sc37>, <Activity: cn18sc40>]>"
      ]
     },
     "execution_count": 9,
     "metadata": {},
     "output_type": "execute_result"
    }
   ],
   "source": [
    "pctds"
   ]
  },
  {
   "cell_type": "code",
   "execution_count": 8,
   "metadata": {},
   "outputs": [
    {
     "data": {
      "text/plain": [
       "<matplotlib.collections.PathCollection at 0x7f38891bc940>"
      ]
     },
     "execution_count": 8,
     "metadata": {},
     "output_type": "execute_result"
    },
    {
     "data": {
      "image/png": "[encoded data removed]",
      "text/plain": [
       "<Figure size 432x288 with 1 Axes>"
      ]
     },
     "metadata": {
      "needs_background": "light"
     },
     "output_type": "display_data"
    }
   ],
   "source": [
    "%matplotlib inline\n",
    "import pylab as plt\n",
    "plt.scatter([pctd.mappoint.x for pctd in pctds],\n",
    "            [pctd.mappoint.y for pctd in pctds], c='b')\n",
    "plt.scatter([esp.mappoint.x for esp in esps],\n",
    "            [esp.mappoint.y for esp in esps], c='r')"
   ]
  },
  {
   "cell_type": "code",
   "execution_count": null,
   "metadata": {},
   "outputs": [],
   "source": [
    "%matplotlib inline\n",
    "\n",
    "import matplotlib.pyplot as plt\n",
    "from matplotlib import pylab\n",
    "from numpy import arange\n",
    "import operator\n",
    "\n",
    "def plot_platforms(ax):\n",
    "    plat_labels = []\n",
    "\n",
    "    # Plot in order by platformtype name and platform name\n",
    "    for ypos, plat in enumerate(\n",
    "                        sorted(plat_start_ends.keys(),\n",
    "                               key=operator.attrgetter('platformtype.name', 'name'))):\n",
    "        plat_labels.append(f'{plat.name} ({plat.platformtype.name})')    \n",
    "        for bdate, edate in plat_start_ends[plat]:\n",
    "            dd = edate - bdate\n",
    "            if dd < 1:\n",
    "                dd = 1\n",
    "            ax.barh(ypos+0.5, dd, left=bdate, height=0.8, \n",
    "                    align='center', color='#' + plat.color, alpha=1.0) \n",
    "\n",
    "    ax.set_title(Campaign.objects.using(db).get(id=1).description)\n",
    "    ax.set_ylim(-0.5, len(plat_labels) + 0.5)\n",
    "    ax.set_yticks(arange(len(plat_labels)) + 0.5)\n",
    "    ax.set_yticklabels(plat_labels)\n",
    "\n",
    "    ax.grid(True)\n",
    "    plt.gca().xaxis.set_major_formatter(mdates.DateFormatter('%B %Y'))\n",
    "    plt.gca().xaxis.set_major_locator(mdates.MonthLocator())\n",
    "    plt.gca().xaxis.set_minor_locator(mdates.DayLocator())\n",
    "    plt.gcf().autofmt_xdate()\n",
    "\n",
    "pylab.rcParams['figure.figsize'] = (15, 9)\n",
    "fig, ax = plt.subplots()\n",
    "plot_platforms(ax)\n",
    "plt.show()"
   ]
  },
  {
   "cell_type": "markdown",
   "metadata": {},
   "source": [
    "There appear to be 10 events measured by the Benthic Event Detectors. Let's find the start times for these events and use _k_-means clustering to group the BEDs event data start times into 10 clusters."
   ]
  },
  {
   "cell_type": "code",
   "execution_count": null,
   "metadata": {},
   "outputs": [],
   "source": [
    "import numpy as np\n",
    "from sklearn.cluster import KMeans\n",
    "bed_starts = np.array(Activity.objects.using(db)\n",
    "                              .filter(platform__name__contains='BED')\n",
    "                              .values_list('startdate', flat=True)\n",
    "                              .order_by('startdate'), dtype=np.datetime64)\n",
    "km = KMeans(n_clusters=10).fit(bed_starts.reshape(-1, 1))"
   ]
  },
  {
   "cell_type": "markdown",
   "metadata": {},
   "source": [
    "Pick the earliest event start time and construct start and end times that we'll use to instruct the STOQS loader that these are the times when we want to load ADCP data from all the moorings into the database."
   ]
  },
  {
   "cell_type": "code",
   "execution_count": null,
   "metadata": {},
   "outputs": [],
   "source": [
    "events = {}\n",
    "for bed_start in bed_starts:\n",
    "    label = km.predict(bed_start.reshape(-1, 1))[0]\n",
    "    if label not in events.keys():\n",
    "        events[label] = bed_start\n",
    "    # Print the clusters of start times and tune n_clusters above to get the optimal set\n",
    "    ##print(bed_start, label)"
   ]
  },
  {
   "cell_type": "markdown",
   "metadata": {},
   "source": [
    "Print `Event()` instances of begining and end times for use in [loadCCE_2015.py](https://github.com/stoqs/stoqs/blob/3a596e6791104054c676a0ba84e81ec02b7ca06b/stoqs/loaders/CCE/loadCCE_2015.py#L23-L32)"
   ]
  },
  {
   "cell_type": "code",
   "execution_count": null,
   "metadata": {},
   "outputs": [],
   "source": [
    "from datetime import datetime, timedelta\n",
    "event_start_ends = defaultdict(list)\n",
    "def print_Events(events, before, after, type):\n",
    "    for start in events.values():\n",
    "        beg_dt = repr(start.astype(datetime) - before).replace('datetime.', '')\n",
    "        end_dt = repr(start.astype(datetime) + after).replace('datetime.', '')\n",
    "        event_start_ends[type].append((mdates.date2num(start.astype(datetime) - before),\n",
    "                                       mdates.date2num(start.astype(datetime) + after)))\n",
    "        print(f\"        Event({beg_dt}, {end_dt}),\")\n",
    "\n",
    "# Low-resolution region: 1 day before to 2 days after the start of each event\n",
    "before = timedelta(days=1)\n",
    "after = timedelta(days=2)\n",
    "print(\"lores_event_times = [\")\n",
    "print_Events(events, before, after, 'lores')\n",
    "print(\"                    ]\")\n",
    "\n",
    "# High-resolution region: 4 hours before to 14 hours after the start of each event\n",
    "before = timedelta(hours=4)\n",
    "after = timedelta(hours=14)\n",
    "print(\"hires_event_times = [\")\n",
    "print_Events(events, before, after, 'hires')\n",
    "print(\"                    ]\")"
   ]
  },
  {
   "cell_type": "markdown",
   "metadata": {},
   "source": [
    "Plot timeline again, but this time with events as shaded regions across all the Platforms."
   ]
  },
  {
   "cell_type": "code",
   "execution_count": null,
   "metadata": {},
   "outputs": [],
   "source": [
    "def plot_events(ax):\n",
    "    for type in ('lores', 'hires'):\n",
    "        for bdate, edate in event_start_ends[type]:\n",
    "            dd = edate - bdate\n",
    "            if dd < 1:\n",
    "                dd = 1\n",
    "            # Plot discovered events as gray lines across all platforms\n",
    "            ax.barh(0, dd, left=bdate, height=32, \n",
    "                    align='center', color='#000000', alpha=0.1) \n",
    "\n",
    "pylab.rcParams['figure.figsize'] = (15, 9)\n",
    "fig, ax2 = plt.subplots()\n",
    "plot_platforms(ax2)\n",
    "plot_events(ax2)\n",
    "plt.show()"
   ]
  },
  {
   "cell_type": "code",
   "execution_count": null,
   "metadata": {},
   "outputs": [],
   "source": []
  }
 ],
 "metadata": {
  "kernelspec": {
   "display_name": "Django Shell-Plus",
   "language": "python",
   "name": "django_extensions"
  },
  "language_info": {
   "codemirror_mode": {
    "name": "ipython",
    "version": 3
   },
   "file_extension": ".py",
   "mimetype": "text/x-python",
   "name": "python",
   "nbconvert_exporter": "python",
   "pygments_lexer": "ipython3",
   "version": "3.6.6"
  }
 },
 "nbformat": 4,
 "nbformat_minor": 2
}
